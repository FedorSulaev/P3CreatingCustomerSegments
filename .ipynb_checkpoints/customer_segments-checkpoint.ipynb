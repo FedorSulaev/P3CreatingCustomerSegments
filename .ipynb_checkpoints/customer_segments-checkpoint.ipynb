{
 "cells": [
  {
   "cell_type": "markdown",
   "metadata": {},
   "source": [
    "# Creating Customer Segments"
   ]
  },
  {
   "cell_type": "markdown",
   "metadata": {},
   "source": [
    "In this project you, will analyze a dataset containing annual spending amounts for internal structure, to understand the variation in the different types of customers that a wholesale distributor interacts with.\n",
    "\n",
    "Instructions:\n",
    "\n",
    "- Run each code block below by pressing **Shift+Enter**, making sure to implement any steps marked with a TODO.\n",
    "- Answer each question in the space provided by editing the blocks labeled \"Answer:\".\n",
    "- When you are done, submit the completed notebook (.ipynb) with all code blocks executed, as well as a .pdf version (File > Download as)."
   ]
  },
  {
   "cell_type": "code",
   "execution_count": 31,
   "metadata": {
    "collapsed": false
   },
   "outputs": [
    {
     "name": "stdout",
     "output_type": "stream",
     "text": [
      "Dataset has 440 rows, 6 columns\n",
      "   Fresh  Milk  Grocery  Frozen  Detergents_Paper  Delicatessen\n",
      "0  12669  9656     7561     214              2674          1338\n",
      "1   7057  9810     9568    1762              3293          1776\n",
      "2   6353  8808     7684    2405              3516          7844\n",
      "3  13265  1196     4221    6404               507          1788\n",
      "4  22615  5410     7198    3915              1777          5185\n"
     ]
    }
   ],
   "source": [
    "# Import libraries: NumPy, pandas, matplotlib\n",
    "import numpy as np\n",
    "import pandas as pd\n",
    "import matplotlib.pyplot as plt\n",
    "\n",
    "# Tell iPython to include plots inline in the notebook\n",
    "%matplotlib inline\n",
    "plt.rcParams[\"figure.figsize\"] = [12, 9]\n",
    "\n",
    "# Read dataset\n",
    "data = pd.read_csv(\"wholesale-customers.csv\")\n",
    "print \"Dataset has {} rows, {} columns\".format(*data.shape)\n",
    "print data.head()  # print the first 5 rows"
   ]
  },
  {
   "cell_type": "markdown",
   "metadata": {},
   "source": [
    "##Feature Transformation"
   ]
  },
  {
   "cell_type": "markdown",
   "metadata": {},
   "source": [
    "**1)** In this section you will be using PCA and ICA to start to understand the structure of the data. Before doing any computations, what do you think will show up in your computations? List one or two ideas for what might show up as the first PCA dimensions, or what type of vectors will show up as ICA dimensions."
   ]
  },
  {
   "cell_type": "markdown",
   "metadata": {},
   "source": [
    "Answer:\n",
    "PCA uses vectors with maximum variance as its first dimensions, ICA finds vectors that are statistically independent. Features with higher variance expected to have higher weight in PCA vectors."
   ]
  },
  {
   "cell_type": "markdown",
   "metadata": {},
   "source": [
    "###PCA"
   ]
  },
  {
   "cell_type": "code",
   "execution_count": 97,
   "metadata": {
    "collapsed": false
   },
   "outputs": [
    {
     "name": "stdout",
     "output_type": "stream",
     "text": [
      "      Fresh      Milk   Grocery    Frozen  Detergents_Paper  Delicatessen\n",
      "0 -0.001936 -0.072593  0.055100  0.001769         -0.015715      0.017071\n",
      "1 -0.004881 -0.001618 -0.005714 -0.002532          0.002434      0.050966\n",
      "2 -0.002673  0.013988 -0.060280 -0.002041          0.003012      0.003994\n",
      "3 -0.010931 -0.001033  0.007351  0.054049         -0.002652     -0.016768\n",
      "4  0.050225 -0.006320 -0.005836 -0.003289          0.009719     -0.002954\n",
      "5 -0.003810  0.016886  0.114882 -0.007081         -0.134369     -0.016155\n",
      "[ 0.45961362  0.40517227  0.07003008  0.04402344  0.01502212  0.00613848]\n"
     ]
    },
    {
     "data": {
      "text/plain": [
       "<matplotlib.text.Text at 0x165cd9b0>"
      ]
     },
     "execution_count": 97,
     "metadata": {},
     "output_type": "execute_result"
    },
    {
     "data": {
      "image/png": "[encoded data removed]",
      "text/plain": [
       "<matplotlib.figure.Figure at 0x165e9fd0>"
      ]
     },
     "metadata": {},
     "output_type": "display_data"
    }
   ],
   "source": [
    "# TODO: Apply PCA with the same number of dimensions as variables in the dataset\n",
    "from sklearn.decomposition import PCA\n",
    "from sklearn import preprocessing\n",
    "\n",
    "pca = PCA(n_components=6)\n",
    "pca.fit_transform(data)\n",
    "\n",
    "# Print the components and the amount of variance in the data contained in each dimension\n",
    "pca_components = pd.DataFrame(ica.components_)\n",
    "pca_components.columns = [\"Fresh\", \"Milk\", \"Grocery\", \"Frozen\", \n",
    "                          \"Detergents_Paper\", \"Delicatessen\"]\n",
    "print pca_components\n",
    "print pca.explained_variance_ratio_\n",
    "\n",
    "# Explained variance plot\n",
    "plt.figure()\n",
    "plt.axes([.2, .2, .7, .7])\n",
    "plt.plot(pca.explained_variance_ratio_, linewidth=2)\n",
    "plt.axis('tight')\n",
    "plt.xlabel('n components')\n",
    "plt.ylabel('Explained variance')"
   ]
  },
  {
   "cell_type": "markdown",
   "metadata": {},
   "source": [
    "**2)** How quickly does the variance drop off by dimension? If you were to use PCA on this dataset, how many dimensions would you choose for your analysis? Why?"
   ]
  },
  {
   "cell_type": "markdown",
   "metadata": {
    "collapsed": true
   },
   "source": [
    "Answer: \n",
    "The variance seems to drop off significantly after the second dimension, using only two dimensions is the most optimal choice for this problem. Higher number of dimensions is not beneficial for segmenting the dataset by the types of customers. "
   ]
  },
  {
   "cell_type": "markdown",
   "metadata": {},
   "source": [
    "**3)** What do the dimensions seem to represent? How can you use this information?"
   ]
  },
  {
   "cell_type": "code",
   "execution_count": 109,
   "metadata": {
    "collapsed": false
   },
   "outputs": [
    {
     "data": {
      "text/plain": [
       "(-2, 2)"
      ]
     },
     "execution_count": 109,
     "metadata": {},
     "output_type": "execute_result"
    },
    {
     "data": {
      "image/png": "[encoded data removed]",
      "text/plain": [
       "<matplotlib.figure.Figure at 0x163f40b8>"
      ]
     },
     "metadata": {},
     "output_type": "display_data"
    }
   ],
   "source": [
    "# Principal components plot\n",
    "data_scaled = preprocessing.scale(data)\n",
    "pca = PCA(n_components=2).fit(data_scaled)\n",
    "ax = pd.DataFrame(pca.transform(data_scaled),\n",
    "                 columns=[\"Principal component 1\", \"Principal component 2\"]).plot(\n",
    "    kind=\"scatter\",\n",
    "    x=\"Principal component 1\", y=\"Principal component 2\", s=1)\n",
    "for i, (pc1, pc2) in enumerate(zip(pca.components_[0], pca.components_[1])):\n",
    "    ax.arrow(0, 0, pc1, pc2, width=0.001, fc=\"orange\", ec=\"orange\")\n",
    "    ax.annotate(data.columns[i], (pc1, pc2), size=12)\n",
    "ax.set_xlim([-2, 2])\n",
    "ax.set_ylim([-2, 2])"
   ]
  },
  {
   "cell_type": "markdown",
   "metadata": {
    "collapsed": true
   },
   "source": [
    "Answer: \n",
    "The plot above shows feature vectors on 2D plane where x axis is the first principal component and y axis is the second principal component. The first PC corresponds to a line that passes through the multidimensional mean and minimizes the sum of squares of the distances of the points from the line, the second PC corresponds to the same concept and is orthogonal to the first PC.<br>\n",
    "In this case the first component gives higher weight to \"Grocery\", \"Milk\" and \"Detergents_Paper\" features. The second component places more weight on “Fresh”, “Frozen” and “Delicatessen”."
   ]
  },
  {
   "cell_type": "markdown",
   "metadata": {},
   "source": [
    "###ICA"
   ]
  },
  {
   "cell_type": "code",
   "execution_count": 127,
   "metadata": {
    "collapsed": false
   },
   "outputs": [
    {
     "name": "stdout",
     "output_type": "stream",
     "text": [
      "      Fresh      Milk   Grocery    Frozen  Detergents_Paper  Delicatessen\n",
      "0  0.049689  0.000195  0.000555 -0.003817         -0.001293     -0.005996\n",
      "1  0.010743  0.002526 -0.002107 -0.054296         -0.003388      0.015559\n",
      "2  0.005665 -0.011443  0.004272  0.003472          0.009802     -0.046094\n",
      "3 -0.003020 -0.013002 -0.019369 -0.002489         -0.020304      0.007837\n"
     ]
    }
   ],
   "source": [
    "# TODO: Fit an ICA model to the data\n",
    "# Note: Adjust the data to have center at the origin first!\n",
    "from sklearn.decomposition import FastICA\n",
    "\n",
    "ica = FastICA(n_components=4, random_state=777)\n",
    "ica.fit(data_scaled)\n",
    "\n",
    "# Print the independent components\n",
    "ica_components = pd.DataFrame(ica.components_)\n",
    "ica_components.columns = [\"Fresh\", \"Milk\", \"Grocery\", \"Frozen\", \n",
    "                          \"Detergents_Paper\", \"Delicatessen\"]\n",
    "print ica_components"
   ]
  },
  {
   "cell_type": "markdown",
   "metadata": {},
   "source": [
    "**4)** For each vector in the ICA decomposition, write a sentence or two explaining what sort of object or property it corresponds to. What could these components be used for?"
   ]
  },
  {
   "cell_type": "code",
   "execution_count": 128,
   "metadata": {
    "collapsed": false
   },
   "outputs": [
    {
     "data": {
      "image/png": "[encoded data removed]",
      "text/plain": [
       "<matplotlib.figure.Figure at 0x17d02860>"
      ]
     },
     "metadata": {},
     "output_type": "display_data"
    }
   ],
   "source": [
    "ax = ica_components.plot(kind=\"bar\")"
   ]
  },
  {
   "cell_type": "markdown",
   "metadata": {
    "collapsed": true
   },
   "source": [
    "Answer: \n",
    "Each vector on the picture above shows relative consumption of different types of products by a group of customers. There are 4 ICA vectors representing different groups:\n",
    "<ul>\n",
    "    <li>\n",
    "    Vector 0: \"Fresh\" has the highest weight, other features have relatively insignificant weights.\n",
    "    </li>\n",
    "    <li>\n",
    "    Vector 1: \"Frozen\" has the highest weight, \"Fresh\" and \"Delicatessen\" have lower weights.\n",
    "    </li>\n",
    "    <li>\n",
    "    Vector 2: \"Delicatessen\" has the highest weight, \"Milk\" and \"Detergents_Paper\" have lower weights, \"Grocery\", \"Fresh\" and \"Frozen\" have similar relatively small weights.\n",
    "    </li>\n",
    "    <li>\n",
    "    Vector 3: \"Grocery\" and \"Detergents_Paper\" have the highest weights, \"Milk\" and \"Delicatessen\" have lower weight.\n",
    "    </li>\n",
    "</ul>"
   ]
  },
  {
   "cell_type": "markdown",
   "metadata": {},
   "source": [
    "##Clustering\n",
    "\n",
    "In this section you will choose either K Means clustering or Gaussian Mixed Models clustering, which implements expectation-maximization. Then you will sample elements from the clusters to understand their significance."
   ]
  },
  {
   "cell_type": "markdown",
   "metadata": {},
   "source": [
    "###Choose a Cluster Type\n",
    "\n",
    "**5)** What are the advantages of using K Means clustering or Gaussian Mixture Models?"
   ]
  },
  {
   "cell_type": "markdown",
   "metadata": {},
   "source": [
    "Answer: The KMeans algorithm scales well to large number of samples and has been used across a large range of application areas in many different fields. Given enough time, K-means will always converge and it is the simplest clustering algorithm.<br>\n",
    "Gaussian Mixture Models generilize K-means clustering to incorporate information about the covariance structure of the data as well as the centers of the latent Gaussians. Mixture models tend to have higher density clusters and it has soft classification available.<br>\n",
    "Since the dataset even in reduced form has a large amount of outliers, Mixture Model clustering might be a better choice."
   ]
  },
  {
   "cell_type": "markdown",
   "metadata": {},
   "source": [
    "**6)** Below is some starter code to help you visualize some cluster data. The visualization is based on [this demo](http://scikit-learn.org/stable/auto_examples/cluster/plot_kmeans_digits.html) from the sklearn documentation."
   ]
  },
  {
   "cell_type": "code",
   "execution_count": 129,
   "metadata": {
    "collapsed": true
   },
   "outputs": [],
   "source": [
    "# Import clustering modules\n",
    "from sklearn.cluster import KMeans\n",
    "from sklearn.mixture import GMM"
   ]
  },
  {
   "cell_type": "code",
   "execution_count": 130,
   "metadata": {
    "collapsed": false
   },
   "outputs": [
    {
     "name": "stdout",
     "output_type": "stream",
     "text": [
      "[[-0.19329055  0.30509996]\n",
      " [-0.4344199   0.32841262]\n",
      " [-0.81114323 -0.8150957 ]\n",
      " [ 0.77864783 -0.65275373]\n",
      " [-0.16628726 -1.27143372]\n",
      " [ 0.15616993  0.29514099]\n",
      " [ 0.3352884   0.52500326]\n",
      " [-0.14058643  0.23099269]\n",
      " [ 0.51731954  0.65936283]\n",
      " [-1.59210908  0.74101133]]\n"
     ]
    }
   ],
   "source": [
    "# TODO: First we reduce the data to two dimensions using PCA to capture variation\n",
    "pca = PCA(n_components=2)\n",
    "reduced_data = pca.fit_transform(data_scaled)\n",
    "print reduced_data[:10]  # print upto 10 elements"
   ]
  },
  {
   "cell_type": "code",
   "execution_count": 148,
   "metadata": {
    "collapsed": false
   },
   "outputs": [
    {
     "name": "stdout",
     "output_type": "stream",
     "text": [
      "GMM(covariance_type='diag', init_params='wmc', min_covar=0.001,\n",
      "  n_components=3, n_init=1, n_iter=100, params='wmc', random_state=777,\n",
      "  thresh=None, tol=0.001, verbose=0)\n"
     ]
    }
   ],
   "source": [
    "# TODO: Implement your clustering algorithm here, and fit it to the reduced data for visualization\n",
    "# The visualizer below assumes your clustering object is named 'clusters'\n",
    "clusters = GMM(n_components=3, random_state=777).fit(reduced_data)\n",
    "print clusters"
   ]
  },
  {
   "cell_type": "code",
   "execution_count": 149,
   "metadata": {
    "collapsed": false
   },
   "outputs": [],
   "source": [
    "# Plot the decision boundary by building a mesh grid to populate a graph.\n",
    "x_min, x_max = reduced_data[:, 0].min() - 1, reduced_data[:, 0].max() + 1\n",
    "y_min, y_max = reduced_data[:, 1].min() - 1, reduced_data[:, 1].max() + 1\n",
    "hx = (x_max-x_min)/1000.\n",
    "hy = (y_max-y_min)/1000.\n",
    "xx, yy = np.meshgrid(np.arange(x_min, x_max, hx), np.arange(y_min, y_max, hy))\n",
    "\n",
    "# Obtain labels for each point in mesh. Use last trained model.\n",
    "Z = clusters.predict(np.c_[xx.ravel(), yy.ravel()])"
   ]
  },
  {
   "cell_type": "code",
   "execution_count": 150,
   "metadata": {
    "collapsed": false
   },
   "outputs": [
    {
     "name": "stdout",
     "output_type": "stream",
     "text": [
      "[[ 0.81499208 -0.09020858]\n",
      " [-0.73775307  0.63075796]\n",
      " [-2.87924272 -1.70246154]]\n"
     ]
    }
   ],
   "source": [
    "# TODO: Find the centroids for KMeans or the cluster means for GMM \n",
    "\n",
    "centroids = clusters.means_\n",
    "print centroids"
   ]
  },
  {
   "cell_type": "code",
   "execution_count": 151,
   "metadata": {
    "collapsed": false
   },
   "outputs": [
    {
     "data": {
      "image/png": "[encoded data removed]",
      "text/plain": [
       "<matplotlib.figure.Figure at 0x13fdbda0>"
      ]
     },
     "metadata": {},
     "output_type": "display_data"
    }
   ],
   "source": [
    "# Put the result into a color plot\n",
    "Z = Z.reshape(xx.shape)\n",
    "plt.figure(1)\n",
    "plt.clf()\n",
    "plt.imshow(Z, interpolation='nearest',\n",
    "           extent=(xx.min(), xx.max(), yy.min(), yy.max()),\n",
    "           cmap=plt.cm.Paired,\n",
    "           aspect='auto', origin='lower')\n",
    "\n",
    "plt.plot(reduced_data[:, 0], reduced_data[:, 1], 'k.', markersize=2)\n",
    "plt.scatter(centroids[:, 0], centroids[:, 1],\n",
    "            marker='x', s=169, linewidths=3,\n",
    "            color='w', zorder=10)\n",
    "plt.title('Clustering on the wholesale grocery dataset (PCA-reduced data)\\n'\n",
    "          'Centroids are marked with white cross')\n",
    "plt.xlim(x_min, x_max)\n",
    "plt.ylim(y_min, y_max)\n",
    "plt.xticks(())\n",
    "plt.yticks(())\n",
    "plt.show()"
   ]
  },
  {
   "cell_type": "markdown",
   "metadata": {},
   "source": [
    "**7)** What are the central objects in each cluster? Describe them as customers."
   ]
  },
  {
   "cell_type": "markdown",
   "metadata": {
    "collapsed": true
   },
   "source": [
    "Answer: \n",
    "<ul>\n",
    "    <li>\n",
    "    Centroid 1 (PC1=0.81, PC2=-0.09): High amount of \"Delicatessen\", \"Frozen\" and \"Fresh\" orders.\n",
    "    </li>\n",
    "    <li>\n",
    "    Centroid 2 (PC1=-0.74, PC2=0.63): High amount of \"Detergents_Paper\", \"Grocery\" and \"Milk\" orders.\n",
    "    </li>\n",
    "    <li>\n",
    "    Centroid 3 (PC1=-2.87, PC2=-1.70): This cluster contains outliers.\n",
    "    </li>\n",
    "<ul>"
   ]
  },
  {
   "cell_type": "markdown",
   "metadata": {},
   "source": [
    "###Conclusions\n",
    "\n",
    "** 8)** Which of these techniques did you feel gave you the most insight into the data?"
   ]
  },
  {
   "cell_type": "markdown",
   "metadata": {
    "collapsed": true
   },
   "source": [
    "Answer: The PCA graph showed two distinct groups of customers which was then confirmed by the GMM clustering."
   ]
  },
  {
   "cell_type": "markdown",
   "metadata": {
    "collapsed": true
   },
   "source": [
    "**9)** How would you use that technique to help the company design new experiments?"
   ]
  },
  {
   "cell_type": "markdown",
   "metadata": {},
   "source": [
    "Answer: New experiments could be conducted with different sets of features in order to detect new market segments."
   ]
  },
  {
   "cell_type": "markdown",
   "metadata": {},
   "source": [
    "**10)** How would you use that data to help you predict future customer needs?"
   ]
  },
  {
   "cell_type": "markdown",
   "metadata": {},
   "source": [
    "Answer: The results can be used in order to narrow down datasets for future experiments concentrated on particular customer segments."
   ]
  },
  {
   "cell_type": "code",
   "execution_count": null,
   "metadata": {
    "collapsed": true
   },
   "outputs": [],
   "source": []
  }
 ],
 "metadata": {
  "kernelspec": {
   "display_name": "Python 2",
   "language": "python",
   "name": "python2"
  },
  "language_info": {
   "codemirror_mode": {
    "name": "ipython",
    "version": 2
   },
   "file_extension": ".py",
   "mimetype": "text/x-python",
   "name": "python",
   "nbconvert_exporter": "python",
   "pygments_lexer": "ipython2",
   "version": "2.7.11"
  }
 },
 "nbformat": 4,
 "nbformat_minor": 0
}
